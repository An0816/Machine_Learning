{
  "nbformat": 4,
  "nbformat_minor": 0,
  "metadata": {
    "kernelspec": {
      "display_name": "Python 3",
      "language": "python",
      "name": "python3"
    },
    "language_info": {
      "codemirror_mode": {
        "name": "ipython",
        "version": 3
      },
      "file_extension": ".py",
      "mimetype": "text/x-python",
      "name": "python",
      "nbconvert_exporter": "python",
      "pygments_lexer": "ipython3",
      "version": "3.8.5"
    },
    "colab": {
      "name": "ML_Competition1.ipynb",
      "provenance": [],
      "include_colab_link": true
    }
  },
  "cells": [
    {
      "cell_type": "markdown",
      "metadata": {
        "id": "view-in-github",
        "colab_type": "text"
      },
      "source": [
        "<a href=\"https://colab.research.google.com/github/An0816/Machine_Learning/blob/main/ML_Competition1.ipynb\" target=\"_parent\"><img src=\"https://colab.research.google.com/assets/colab-badge.svg\" alt=\"Open In Colab\"/></a>"
      ]
    },
    {
      "cell_type": "code",
      "metadata": {
        "id": "l_tUgi2DrgwL"
      },
      "source": [
        "import pandas as pd\n",
        "import numpy as np"
      ],
      "execution_count": null,
      "outputs": []
    },
    {
      "cell_type": "code",
      "metadata": {
        "id": "x6L-460orgwR"
      },
      "source": [
        "train = pd.read_csv('competition1_train.csv',encoding='cp949')\n",
        "test = pd.read_csv('competition1_test.csv',encoding='cp949')\n",
        "y_train = pd.read_csv('competition1_y.csv',encoding='cp949').gender"
      ],
      "execution_count": null,
      "outputs": []
    },
    {
      "cell_type": "code",
      "metadata": {
        "id": "qS_As7IHrgwR"
      },
      "source": [
        "tr = pd.concat([train, test])"
      ],
      "execution_count": null,
      "outputs": []
    },
    {
      "cell_type": "code",
      "metadata": {
        "id": "HlSW1NOfrgwS"
      },
      "source": [
        "# 한 달에 내는 실제 금액\n",
        "tr['real_amt']= tr.tot_amt / tr.inst_mon\n",
        "\n",
        "# 날짜 중 필요한 부분만\n",
        "tr['sdate'] = tr.sales_date.str[:10]\n",
        "\n",
        "# 할인율\n",
        "tr['dist_rate'] = (tr['dis_amt']/tr['tot_amt'])*100"
      ],
      "execution_count": null,
      "outputs": []
    },
    {
      "cell_type": "code",
      "metadata": {
        "id": "EkBrcOm5rgwT"
      },
      "source": [
        "IDtest = test.custid.unique()"
      ],
      "execution_count": null,
      "outputs": []
    },
    {
      "cell_type": "code",
      "metadata": {
        "id": "_16nPL6BrgwT"
      },
      "source": [
        "level = 'corner_nm'\n",
        "# np.where를 통해 ID가 해당 corner에 들린 이력이 있기만 하면 1 아니면 0으로 매핑합니다.\n",
        "X_train = pd.pivot_table(tr, index='custid', columns=level, values='tot_amt',\n",
        "                         aggfunc=lambda x: np.where(len(x) >=1, 1, 0), fill_value=0). \\\n",
        "                         reset_index(). \\\n",
        "                         query('custid not in @IDtest') # train set에만 있는 data를 활용합니다.\n",
        "X_test = pd.pivot_table(tr, index='custid', columns=level, values='tot_amt',\n",
        "                         aggfunc=lambda x: np.where(len(x) >=1, 1, 0), fill_value=0). \\\n",
        "                         reset_index(). \\\n",
        "                         query('custid in @IDtest') # test set에만 있는 data를 활용합니다."
      ],
      "execution_count": null,
      "outputs": []
    },
    {
      "cell_type": "code",
      "metadata": {
        "id": "GWVennDtrgwU"
      },
      "source": [
        "features = []"
      ],
      "execution_count": null,
      "outputs": []
    },
    {
      "cell_type": "code",
      "metadata": {
        "id": "Mothb-MergwU"
      },
      "source": [
        "# 구매 분을 제외하고 시간만 불러옵니다.\n",
        "tr['구매시간대'] =tr['sales_time']//100 \n",
        "\n",
        "# 추출한 시간을 활용하여 퇴근 전 후를 구분합니다.\n",
        "def fx3(x):\n",
        "    if 9<=x<=12 or 13<=x<=18:\n",
        "        return('퇴근전')\n",
        "    else:\n",
        "        return('퇴근후')\n",
        "    \n",
        "tr['구매시간유형'] = tr['구매시간대'].map(fx3)\n",
        "\n",
        "# 각각 고객이 퇴근 전 후의 시간에 얼마나 많은 구매가 일어나는지를 반영합니다.\n",
        "a = pd.pivot_table(index='custid',columns='구매시간유형',values='tot_amt',aggfunc=np.size,\n",
        "                   fill_value=0,data = tr.query('tot_amt>0')[['custid','구매시간유형','tot_amt']]).reset_index()"
      ],
      "execution_count": null,
      "outputs": []
    },
    {
      "cell_type": "code",
      "metadata": {
        "id": "QX7SK0kQrgwV"
      },
      "source": [
        "#고객의 전체 구매 건수를 나타냅니다.\n",
        "all_amt = tr.query(\"tot_amt>0\").groupby('custid')['tot_amt'].size()"
      ],
      "execution_count": null,
      "outputs": []
    },
    {
      "cell_type": "code",
      "metadata": {
        "id": "qmzVP192rgwV"
      },
      "source": [
        "# 고객의 전체 구매 건수를 나눠 퇴근 전 후의 구매 비율을 표현합니다.\n",
        "f = a.drop('custid',axis=1).apply(lambda x: x/ all_amt).rename_axis('custid').reset_index()\n",
        "features.append(f)"
      ],
      "execution_count": null,
      "outputs": []
    },
    {
      "cell_type": "code",
      "metadata": {
        "id": "jiGdLELSrgwW",
        "outputId": "3d776591-f0b1-4a6f-da0f-d86a30a3f09e"
      },
      "source": [
        "# 고객이 퇴근 전, 퇴근 후에 얼마나 많은 금액을 사용하는 지를 변수로 반영합니다.\n",
        "tr['구매시간유형1'] = tr['구매시간유형']+str(1)\n",
        "\n",
        "a = tr.query(\"net_amt>0\").groupby(['custid','구매시간유형1'])['net_amt'].agg([('시간별구매액합',sum)]).reset_index()\n",
        "a = pd.pivot_table(index='custid',columns='구매시간유형1',values='시간별구매액합',fill_value=0,aggfunc=sum,data=a).reset_index()\n",
        "features.append(a)\n",
        "a.head(1)"
      ],
      "execution_count": null,
      "outputs": [
        {
          "output_type": "execute_result",
          "data": {
            "text/html": [
              "<div>\n",
              "<style scoped>\n",
              "    .dataframe tbody tr th:only-of-type {\n",
              "        vertical-align: middle;\n",
              "    }\n",
              "\n",
              "    .dataframe tbody tr th {\n",
              "        vertical-align: top;\n",
              "    }\n",
              "\n",
              "    .dataframe thead th {\n",
              "        text-align: right;\n",
              "    }\n",
              "</style>\n",
              "<table border=\"1\" class=\"dataframe\">\n",
              "  <thead>\n",
              "    <tr style=\"text-align: right;\">\n",
              "      <th>구매시간유형1</th>\n",
              "      <th>custid</th>\n",
              "      <th>퇴근전1</th>\n",
              "      <th>퇴근후1</th>\n",
              "    </tr>\n",
              "  </thead>\n",
              "  <tbody>\n",
              "    <tr>\n",
              "      <th>0</th>\n",
              "      <td>0</td>\n",
              "      <td>874800</td>\n",
              "      <td>693000</td>\n",
              "    </tr>\n",
              "  </tbody>\n",
              "</table>\n",
              "</div>"
            ],
            "text/plain": [
              "구매시간유형1  custid    퇴근전1    퇴근후1\n",
              "0             0  874800  693000"
            ]
          },
          "metadata": {
            "tags": []
          },
          "execution_count": 11
        }
      ]
    },
    {
      "cell_type": "code",
      "metadata": {
        "id": "kqReWLLArgwY",
        "outputId": "8427e250-3311-494c-8fea-5b6b121b883f"
      },
      "source": [
        "# 고객의 전체 구매액\n",
        "b = tr.query(\"net_amt>0\").groupby('custid')['net_amt'].agg([('구매액합',sum)]).reset_index()['구매액합']\n",
        "# 고객이 퇴근 전, 퇴근 후에 얼마나 많은 금액을 사용하는 지를 비율로 표현해 변수로 반영합니다.\n",
        "a = a.iloc[:,1:3].apply(lambda x: x/b).rename_axis('custid').reset_index()\n",
        "a.columns = ['custid','퇴근전비율','퇴근후비율']\n",
        "features.append(a)\n",
        "a.head(2)"
      ],
      "execution_count": null,
      "outputs": [
        {
          "output_type": "execute_result",
          "data": {
            "text/html": [
              "<div>\n",
              "<style scoped>\n",
              "    .dataframe tbody tr th:only-of-type {\n",
              "        vertical-align: middle;\n",
              "    }\n",
              "\n",
              "    .dataframe tbody tr th {\n",
              "        vertical-align: top;\n",
              "    }\n",
              "\n",
              "    .dataframe thead th {\n",
              "        text-align: right;\n",
              "    }\n",
              "</style>\n",
              "<table border=\"1\" class=\"dataframe\">\n",
              "  <thead>\n",
              "    <tr style=\"text-align: right;\">\n",
              "      <th></th>\n",
              "      <th>custid</th>\n",
              "      <th>퇴근전비율</th>\n",
              "      <th>퇴근후비율</th>\n",
              "    </tr>\n",
              "  </thead>\n",
              "  <tbody>\n",
              "    <tr>\n",
              "      <th>0</th>\n",
              "      <td>0</td>\n",
              "      <td>0.557979</td>\n",
              "      <td>0.442021</td>\n",
              "    </tr>\n",
              "    <tr>\n",
              "      <th>1</th>\n",
              "      <td>1</td>\n",
              "      <td>0.996454</td>\n",
              "      <td>0.003546</td>\n",
              "    </tr>\n",
              "  </tbody>\n",
              "</table>\n",
              "</div>"
            ],
            "text/plain": [
              "   custid     퇴근전비율     퇴근후비율\n",
              "0       0  0.557979  0.442021\n",
              "1       1  0.996454  0.003546"
            ]
          },
          "metadata": {
            "tags": []
          },
          "execution_count": 12
        }
      ]
    },
    {
      "cell_type": "code",
      "metadata": {
        "id": "ld723urBrgwZ"
      },
      "source": [
        "a = tr[tr.corner_nm.str.contains('남성')]\n",
        "b = a.groupby('custid')['part_nm'].agg([('남성코너구매횟수', np.size)]).reset_index()\n",
        "c = a.groupby('custid')['tot_amt'].agg([('남성코너구매합', np.sum)]).reset_index()\n",
        "c['남성코너구매여부'] = 1  # c에 있는 custid들에 대해서 남성 코너 구매여부를 표현합니다.\n",
        "features.append(b)\n",
        "features.append(c)"
      ],
      "execution_count": null,
      "outputs": []
    },
    {
      "cell_type": "code",
      "metadata": {
        "id": "cfEUtAHnrgwa"
      },
      "source": [
        "f = tr.groupby('custid')['tot_amt'].agg([('총구매액', 'sum')]).reset_index()\n",
        "features.append(f)"
      ],
      "execution_count": null,
      "outputs": []
    },
    {
      "cell_type": "code",
      "metadata": {
        "id": "nH0NHNN3rgwa"
      },
      "source": [
        "f = tr.groupby('custid')['tot_amt'].agg([('평균구매가격', 'mean')]).reset_index()\n",
        "features.append(f)"
      ],
      "execution_count": null,
      "outputs": []
    },
    {
      "cell_type": "code",
      "metadata": {
        "id": "4IDMU7p5rgwb"
      },
      "source": [
        "f = tr.groupby('custid')['inst_mon'].agg([('평균할부개월수', 'mean')]).reset_index()\n",
        "f.iloc[:,1] = f.iloc[:,1].apply(round, args=(1,))\n",
        "features.append(f)"
      ],
      "execution_count": null,
      "outputs": []
    },
    {
      "cell_type": "code",
      "metadata": {
        "id": "_-AOo7d5rgwb"
      },
      "source": [
        "tr['sdate'] = tr.sales_date.str[:10]\n",
        "f = tr.groupby(by = 'custid')['sdate'].agg([('내점일수','nunique')]).reset_index()\n",
        "features.append(f)"
      ],
      "execution_count": null,
      "outputs": []
    },
    {
      "cell_type": "code",
      "metadata": {
        "id": "8Rvt8sycrgwc"
      },
      "source": [
        "for feat in features : \n",
        "    X_train = pd.merge(X_train,feat,how='left',on=['custid'])\n",
        "    X_test = pd.merge(X_test,feat,how='left',on=['custid'])"
      ],
      "execution_count": null,
      "outputs": []
    },
    {
      "cell_type": "code",
      "metadata": {
        "id": "pkq78h6Drgwc"
      },
      "source": [
        "X_train = X_train.drop(columns=['custid'])\n",
        "X_test = X_test.drop(columns=['custid'])"
      ],
      "execution_count": null,
      "outputs": []
    },
    {
      "cell_type": "code",
      "metadata": {
        "id": "cYattP-Zrgwd"
      },
      "source": [
        "from sklearn.metrics import make_scorer\n",
        "from sklearn.metrics import roc_auc_score\n",
        "auc = make_scorer(roc_auc_score, greater_is_better = True, needs_proba = True)"
      ],
      "execution_count": null,
      "outputs": []
    },
    {
      "cell_type": "code",
      "metadata": {
        "id": "pOLrVEfnrgwd"
      },
      "source": [
        "import scipy as sp"
      ],
      "execution_count": null,
      "outputs": []
    },
    {
      "cell_type": "code",
      "metadata": {
        "id": "apxSyD2Xrgwd"
      },
      "source": [
        "sp.random.seed(0)"
      ],
      "execution_count": null,
      "outputs": []
    },
    {
      "cell_type": "code",
      "metadata": {
        "id": "xoBpjPmurgwe"
      },
      "source": [
        "parameters = {\n",
        "    \"learning_rate\": sp.stats.uniform(),\n",
        "    \"max_depth\":sp.stats.randint(5,80),\n",
        "    \"n_estimators\":sp.stats.randint(30,300)\n",
        "    }"
      ],
      "execution_count": null,
      "outputs": []
    },
    {
      "cell_type": "code",
      "metadata": {
        "id": "NT69LHZhrgwe"
      },
      "source": [
        "from lightgbm import LGBMClassifier\n",
        "model = LGBMClassifier(random_state = 1218, n_jobs = -1)"
      ],
      "execution_count": null,
      "outputs": []
    },
    {
      "cell_type": "code",
      "metadata": {
        "id": "nYBh6mcvrgwf"
      },
      "source": [
        "from sklearn.model_selection import RandomizedSearchCV\n",
        "rand = RandomizedSearchCV(model, parameters, n_jobs = -1, cv = 4, scoring = auc, verbose = 2)"
      ],
      "execution_count": null,
      "outputs": []
    },
    {
      "cell_type": "code",
      "metadata": {
        "id": "_kTbn_X9rgwf",
        "outputId": "8366e8df-6b5d-4ea7-aa59-c0959f5419b1"
      },
      "source": [
        "%%time\n",
        "rand.fit(np.array(X_train), np.array(y_train))"
      ],
      "execution_count": null,
      "outputs": [
        {
          "output_type": "stream",
          "text": [
            "Fitting 4 folds for each of 10 candidates, totalling 40 fits\n",
            "[LightGBM] [Warning] Accuracy may be bad since you didn't explicitly set num_leaves OR 2^max_depth > num_leaves. (num_leaves=31).\n",
            "Wall time: 21.8 s\n"
          ],
          "name": "stdout"
        },
        {
          "output_type": "execute_result",
          "data": {
            "text/plain": [
              "RandomizedSearchCV(cv=4, estimator=LGBMClassifier(random_state=1218), n_jobs=-1,\n",
              "                   param_distributions={'learning_rate': <scipy.stats._distn_infrastructure.rv_frozen object at 0x0000017DBCFECA00>,\n",
              "                                        'max_depth': <scipy.stats._distn_infrastructure.rv_frozen object at 0x0000017DBCFECC10>,\n",
              "                                        'n_estimators': <scipy.stats._distn_infrastructure.rv_frozen object at 0x0000017DBCFECD30>},\n",
              "                   scoring=make_scorer(roc_auc_score, needs_proba=True),\n",
              "                   verbose=2)"
            ]
          },
          "metadata": {
            "tags": []
          },
          "execution_count": 29
        }
      ]
    },
    {
      "cell_type": "code",
      "metadata": {
        "id": "zHHkkt0prgwg",
        "outputId": "a145021e-9441-4507-850f-41aa91a7b01a"
      },
      "source": [
        "rand.best_estimator_"
      ],
      "execution_count": null,
      "outputs": [
        {
          "output_type": "execute_result",
          "data": {
            "text/plain": [
              "LGBMClassifier(learning_rate=0.08712929970154071, max_depth=74,\n",
              "               n_estimators=129, random_state=1218)"
            ]
          },
          "metadata": {
            "tags": []
          },
          "execution_count": 30
        }
      ]
    },
    {
      "cell_type": "code",
      "metadata": {
        "id": "5Wcch5egrgwg",
        "outputId": "110b29a0-045c-4d6a-9a11-b441150ae13c"
      },
      "source": [
        "rand.best_score_"
      ],
      "execution_count": null,
      "outputs": [
        {
          "output_type": "execute_result",
          "data": {
            "text/plain": [
              "0.6620278397848605"
            ]
          },
          "metadata": {
            "tags": []
          },
          "execution_count": 31
        }
      ]
    },
    {
      "cell_type": "code",
      "metadata": {
        "id": "AwDuTyLurgwh"
      },
      "source": [
        "from lightgbm import LGBMClassifier\n",
        "model = LGBMClassifier(random_state = 1218, learning_rate = 0.08712929970154071, max_depth=74, n_estimators = 129, objective = 'binary', subsample = 0.9, colsample_bytree = 0.9, n_jobs = -1, booster = 'dart')"
      ],
      "execution_count": null,
      "outputs": []
    },
    {
      "cell_type": "code",
      "metadata": {
        "id": "XJOebU0rrgwh",
        "outputId": "f63a262e-4372-4d0c-8e6f-cec999fddfd5"
      },
      "source": [
        "model.fit(np.array(X_train), np.array(y_train))"
      ],
      "execution_count": null,
      "outputs": [
        {
          "output_type": "execute_result",
          "data": {
            "text/plain": [
              "LGBMClassifier(booster='dart', colsample_bytree=0.9,\n",
              "               learning_rate=0.08712929970154071, max_depth=74,\n",
              "               n_estimators=129, objective='binary', random_state=1218,\n",
              "               subsample=0.9)"
            ]
          },
          "metadata": {
            "tags": []
          },
          "execution_count": 33
        }
      ]
    },
    {
      "cell_type": "code",
      "metadata": {
        "id": "Ba16S808rgwi"
      },
      "source": [
        "pred = model.predict_proba(X_test)[:,1]"
      ],
      "execution_count": null,
      "outputs": []
    },
    {
      "cell_type": "markdown",
      "metadata": {
        "id": "hhainLrdrgwj"
      },
      "source": [
        "이렇게 해서 base_lgbm5.csv 제출"
      ]
    },
    {
      "cell_type": "code",
      "metadata": {
        "id": "ig5yW2wfrgwj"
      },
      "source": [
        ""
      ],
      "execution_count": null,
      "outputs": []
    },
    {
      "cell_type": "code",
      "metadata": {
        "id": "Y5CwiqN4rgwj"
      },
      "source": [
        ""
      ],
      "execution_count": null,
      "outputs": []
    },
    {
      "cell_type": "markdown",
      "metadata": {
        "id": "f6XdviKVrgwk"
      },
      "source": [
        "### Final Submission \n",
        "- GridSearchCV를 통해서 best parameters를 찾는 것에 집중  \n",
        "- 1st : LightGBM부터 손질 (GridSearch만 사용)\n",
        "- 2nd : XGBoost 손질(RandomizedSearchCV + GridSearchCV 사용)"
      ]
    },
    {
      "cell_type": "code",
      "metadata": {
        "id": "qa-Cf98Qrgwk"
      },
      "source": [
        "from lightgbm import LGBMClassifier\n",
        "\n",
        "model = LGBMClassifier(random_state = 1218, n_jobs = -1)"
      ],
      "execution_count": null,
      "outputs": []
    },
    {
      "cell_type": "code",
      "metadata": {
        "id": "rPkqvR5trgwl"
      },
      "source": [
        "from sklearn.metrics import make_scorer\n",
        "from sklearn.metrics import roc_auc_score\n",
        "\n",
        "auc = make_scorer(roc_auc_score, greater_is_better = True, needs_proba = True)"
      ],
      "execution_count": null,
      "outputs": []
    },
    {
      "cell_type": "code",
      "metadata": {
        "id": "p5X7J2pErgwl"
      },
      "source": [
        "from sklearn.model_selection import GridSearchCV\n",
        "\n",
        "grid = GridSearchCV(model,\n",
        "                   {\n",
        "                    'learning_rate' : [0.01, 0.05, 0.1, 0.2],\n",
        "                    'max_depth' : [5, 7, 9, 10, 30],\n",
        "                    'n_estimators': [100, 300, 600]\n",
        "                   },\n",
        "                    n_jobs = -1,\n",
        "                    cv = 4,\n",
        "                    scoring = auc,\n",
        "                    verbose = 2\n",
        "                   )"
      ],
      "execution_count": null,
      "outputs": []
    },
    {
      "cell_type": "code",
      "metadata": {
        "id": "zMKnWBqQrgwm",
        "outputId": "e7ef6f7f-5a5e-4ca9-8ceb-072cde75ec71"
      },
      "source": [
        "%%time\n",
        "grid.fit(np.array(X_train), np.array(y_train))"
      ],
      "execution_count": null,
      "outputs": [
        {
          "output_type": "stream",
          "text": [
            "Fitting 4 folds for each of 60 candidates, totalling 240 fits\n",
            "Wall time: 2min 1s\n"
          ],
          "name": "stdout"
        },
        {
          "output_type": "execute_result",
          "data": {
            "text/plain": [
              "GridSearchCV(cv=4, estimator=LGBMClassifier(random_state=1218), n_jobs=-1,\n",
              "             param_grid={'learning_rate': [0.01, 0.05, 0.1, 0.2],\n",
              "                         'max_depth': [5, 7, 9, 10, 30],\n",
              "                         'n_estimators': [100, 300, 600]},\n",
              "             scoring=make_scorer(roc_auc_score, needs_proba=True), verbose=2)"
            ]
          },
          "metadata": {
            "tags": []
          },
          "execution_count": 49
        }
      ]
    },
    {
      "cell_type": "code",
      "metadata": {
        "id": "ZGRuotNzrgwm",
        "outputId": "c6482f22-6a23-40de-bc3a-d0b52853957c"
      },
      "source": [
        "grid.best_params_"
      ],
      "execution_count": null,
      "outputs": [
        {
          "output_type": "execute_result",
          "data": {
            "text/plain": [
              "{'learning_rate': 0.01, 'max_depth': 30, 'n_estimators': 600}"
            ]
          },
          "metadata": {
            "tags": []
          },
          "execution_count": 51
        }
      ]
    },
    {
      "cell_type": "code",
      "metadata": {
        "id": "YGDmdvnYrgwn"
      },
      "source": [
        "from sklearn.model_selection import GridSearchCV\n",
        "\n",
        "grid2 = GridSearchCV(model,\n",
        "                    {\n",
        "                    'subsample' : [0.5, 0.7, 0.9],\n",
        "                    'subsample_freq' : [1, 3, 5],\n",
        "                    'colsample_bytree' : [0.5, 0.7, 0.9]\n",
        "                    },\n",
        "                    n_jobs = -1,\n",
        "                    cv = 4,\n",
        "                    scoring = auc,\n",
        "                    verbose = 2\n",
        "                    )"
      ],
      "execution_count": null,
      "outputs": []
    },
    {
      "cell_type": "code",
      "metadata": {
        "id": "qeilfZNUrgwn",
        "outputId": "6531690e-c4ac-4960-a6b0-2ea56ea541db"
      },
      "source": [
        "%%time\n",
        "grid2.fit(np.array(X_train), np.array(y_train))"
      ],
      "execution_count": null,
      "outputs": [
        {
          "output_type": "stream",
          "text": [
            "Fitting 4 folds for each of 27 candidates, totalling 108 fits\n",
            "Wall time: 28.7 s\n"
          ],
          "name": "stdout"
        },
        {
          "output_type": "execute_result",
          "data": {
            "text/plain": [
              "GridSearchCV(cv=4, estimator=LGBMClassifier(random_state=1218), n_jobs=-1,\n",
              "             param_grid={'colsample_bytree': [0.5, 0.7, 0.9],\n",
              "                         'subsample': [0.5, 0.7, 0.9],\n",
              "                         'subsample_freq': [1, 3, 5]},\n",
              "             scoring=make_scorer(roc_auc_score, needs_proba=True), verbose=2)"
            ]
          },
          "metadata": {
            "tags": []
          },
          "execution_count": 54
        }
      ]
    },
    {
      "cell_type": "code",
      "metadata": {
        "id": "lT8x75KFrgwo",
        "outputId": "618805e6-43bc-4c6c-a637-92e8059056d0"
      },
      "source": [
        "grid2.best_params_"
      ],
      "execution_count": null,
      "outputs": [
        {
          "output_type": "execute_result",
          "data": {
            "text/plain": [
              "{'colsample_bytree': 0.5, 'subsample': 0.9, 'subsample_freq': 1}"
            ]
          },
          "metadata": {
            "tags": []
          },
          "execution_count": 55
        }
      ]
    },
    {
      "cell_type": "code",
      "metadata": {
        "id": "cqv0v-_crgwp"
      },
      "source": [
        "from lightgbm import LGBMClassifier\n",
        "lgbm = LGBMClassifier(random_state = 1218, n_jobs = -1, learning_rate = 0.01, max_depth = 30, n_estimators = 600, subsample = 0.9, subsample_freq = 1, colsample_bytree = 0.5, boosting_type = 'dart')"
      ],
      "execution_count": null,
      "outputs": []
    },
    {
      "cell_type": "code",
      "metadata": {
        "id": "gXW6oeI4rgwp",
        "outputId": "065f1f6d-8ef5-41eb-8e61-cb4157c6a4ff"
      },
      "source": [
        "lgbm.fit(np.array(X_train), np.array(y_train))"
      ],
      "execution_count": null,
      "outputs": [
        {
          "output_type": "execute_result",
          "data": {
            "text/plain": [
              "LGBMClassifier(boosting_type='dart', colsample_bytree=0.5, learning_rate=0.01,\n",
              "               max_depth=30, n_estimators=600, random_state=1218, subsample=0.9,\n",
              "               subsample_freq=1)"
            ]
          },
          "metadata": {
            "tags": []
          },
          "execution_count": 58
        }
      ]
    },
    {
      "cell_type": "code",
      "metadata": {
        "id": "M4kDQZXqrgwq"
      },
      "source": [
        "lgbm_pred = lgbm.predict_proba(np.array(X_test))[:,1]"
      ],
      "execution_count": null,
      "outputs": []
    },
    {
      "cell_type": "code",
      "metadata": {
        "id": "p3gNqSs5rgwr"
      },
      "source": [
        ""
      ],
      "execution_count": null,
      "outputs": []
    },
    {
      "cell_type": "markdown",
      "metadata": {
        "id": "cPzTgrD9rgwr"
      },
      "source": [
        "#### XGBoost"
      ]
    },
    {
      "cell_type": "code",
      "metadata": {
        "id": "yqsfbPNmrgwr"
      },
      "source": [
        "from xgboost import XGBClassifier\n",
        "model = XGBClassifier(random_state = 1218, n_jobs = -1)"
      ],
      "execution_count": null,
      "outputs": []
    },
    {
      "cell_type": "code",
      "metadata": {
        "id": "NwVakC9Argws"
      },
      "source": [
        "from sklearn.metrics import make_scorer\n",
        "from sklearn.metrics import roc_auc_score\n",
        "auc = make_scorer(roc_auc_score, greater_is_better = True, needs_proba = True)"
      ],
      "execution_count": null,
      "outputs": []
    },
    {
      "cell_type": "code",
      "metadata": {
        "id": "9SLKiUdUrgws"
      },
      "source": [
        "parameters = {\n",
        "    'learning_rate' : [0.01, 0.05, 0.1, 0.2],\n",
        "    'max_depth' : [5, 7, 9, 12],\n",
        "    'n_estimators' : [30, 100, 300, 600]\n",
        "}"
      ],
      "execution_count": null,
      "outputs": []
    },
    {
      "cell_type": "code",
      "metadata": {
        "id": "B-tZUM-Prgwu"
      },
      "source": [
        "from sklearn.model_selection import GridSearchCV\n",
        "grid = GridSearchCV(model, parameters, n_jobs = -1, cv = 4, scoring = auc, verbose = 2)"
      ],
      "execution_count": null,
      "outputs": []
    },
    {
      "cell_type": "code",
      "metadata": {
        "id": "XbMrEu87rgwv",
        "outputId": "bfad5205-1615-49e8-a298-08ac234a9250"
      },
      "source": [
        "%%time\n",
        "grid.fit(np.array(X_train), np.array(y_train))"
      ],
      "execution_count": null,
      "outputs": [
        {
          "output_type": "stream",
          "text": [
            "Fitting 4 folds for each of 64 candidates, totalling 256 fits\n"
          ],
          "name": "stdout"
        },
        {
          "output_type": "stream",
          "text": [
            "C:\\Users\\lg\\anaconda3\\lib\\site-packages\\xgboost\\sklearn.py:888: UserWarning: The use of label encoder in XGBClassifier is deprecated and will be removed in a future release. To remove this warning, do the following: 1) Pass option use_label_encoder=False when constructing XGBClassifier object; and 2) Encode your labels (y) as integers starting with 0, i.e. 0, 1, 2, ..., [num_class - 1].\n",
            "  warnings.warn(label_encoder_deprecation_msg, UserWarning)\n"
          ],
          "name": "stderr"
        },
        {
          "output_type": "stream",
          "text": [
            "[23:13:14] WARNING: C:/Users/Administrator/workspace/xgboost-win64_release_1.3.0/src/learner.cc:1061: Starting in XGBoost 1.3.0, the default evaluation metric used with the objective 'binary:logistic' was changed from 'error' to 'logloss'. Explicitly set eval_metric if you'd like to restore the old behavior.\n",
            "Wall time: 1h 21min 32s\n"
          ],
          "name": "stdout"
        },
        {
          "output_type": "execute_result",
          "data": {
            "text/plain": [
              "GridSearchCV(cv=4,\n",
              "             estimator=XGBClassifier(base_score=None, booster=None,\n",
              "                                     colsample_bylevel=None,\n",
              "                                     colsample_bynode=None,\n",
              "                                     colsample_bytree=None, gamma=None,\n",
              "                                     gpu_id=None, importance_type='gain',\n",
              "                                     interaction_constraints=None,\n",
              "                                     learning_rate=None, max_delta_step=None,\n",
              "                                     max_depth=None, min_child_weight=None,\n",
              "                                     missing=nan, monotone_constraints=None,\n",
              "                                     n_estimators=100, n_jobs=-1,\n",
              "                                     num_parallel_tree=None, random_state=1218,\n",
              "                                     reg_alpha=None, reg_lambda=None,\n",
              "                                     scale_pos_weight=None, subsample=None,\n",
              "                                     tree_method=None, validate_parameters=None,\n",
              "                                     verbosity=None),\n",
              "             n_jobs=-1,\n",
              "             param_grid={'learning_rate': [0.01, 0.05, 0.1, 0.2],\n",
              "                         'max_depth': [5, 7, 9, 12],\n",
              "                         'n_estimators': [30, 100, 300, 600]},\n",
              "             scoring=make_scorer(roc_auc_score, needs_proba=True), verbose=2)"
            ]
          },
          "metadata": {
            "tags": []
          },
          "execution_count": 64
        }
      ]
    },
    {
      "cell_type": "code",
      "metadata": {
        "id": "a0drZ0Onrgwv",
        "outputId": "c8a00b82-790a-45a8-9d8b-89f64c2ec0c5"
      },
      "source": [
        "grid.best_params_"
      ],
      "execution_count": null,
      "outputs": [
        {
          "output_type": "execute_result",
          "data": {
            "text/plain": [
              "{'learning_rate': 0.1, 'max_depth': 5, 'n_estimators': 100}"
            ]
          },
          "metadata": {
            "tags": []
          },
          "execution_count": 65
        }
      ]
    },
    {
      "cell_type": "markdown",
      "metadata": {
        "id": "ZXmq2Yd0rgww"
      },
      "source": [
        "#### RandomizedSearchCV\n",
        "- Random Sampling을 통해서 parameter를 설정"
      ]
    },
    {
      "cell_type": "code",
      "metadata": {
        "id": "hYoTp8gxrgww"
      },
      "source": [
        "import scipy as sp # 수학 연산에 사용되는 파이썬 라이브러리 "
      ],
      "execution_count": null,
      "outputs": []
    },
    {
      "cell_type": "code",
      "metadata": {
        "id": "5MZDQAiRrgwx"
      },
      "source": [
        "sp.random.seed(0)"
      ],
      "execution_count": null,
      "outputs": []
    },
    {
      "cell_type": "code",
      "metadata": {
        "id": "aAhihbKdrgwx"
      },
      "source": [
        "parameters = {\n",
        "    'learning_rate' : sp.stats.uniform(), \n",
        "    'max_depth' : sp.stats.randint(5, 100), # \n",
        "    'n_estimators' : sp.stats.randint(30, 600)\n",
        "}"
      ],
      "execution_count": null,
      "outputs": []
    },
    {
      "cell_type": "code",
      "metadata": {
        "id": "Y2bwxubVrgwy"
      },
      "source": [
        "parameters = {\n",
        "    'learning_rate' : sp.stats.uniform(), # [0, 1] 사이의 균일한 연속변수를 생성(random하게 추출)\n",
        "    'max_depth' : [int(x) for x in range(5, 100)], \n",
        "    'n_estimators' : [int(x) for x in range(30, 600, 10)]\n",
        "}"
      ],
      "execution_count": null,
      "outputs": []
    },
    {
      "cell_type": "code",
      "metadata": {
        "id": "HWiIKjDMrgwy"
      },
      "source": [
        "from xgboost import XGBClassifier\n",
        "model = XGBClassifier(random_state = 1218, n_jobs = -1)"
      ],
      "execution_count": null,
      "outputs": []
    },
    {
      "cell_type": "code",
      "metadata": {
        "id": "pDPdY5Acrgwy"
      },
      "source": [
        "from sklearn.model_selection import RandomizedSearchCV\n",
        "rand = RandomizedSearchCV(model, parameters, n_jobs = -1, cv = 5, scoring = auc, verbose = 2)"
      ],
      "execution_count": null,
      "outputs": []
    },
    {
      "cell_type": "code",
      "metadata": {
        "id": "lcWsC7Y4rgwz",
        "outputId": "1a3b5b1d-e1d7-4a5a-8b30-50c2059b51d0"
      },
      "source": [
        "%%time\n",
        "rand.fit(np.array(X_train), np.array(y_train))"
      ],
      "execution_count": null,
      "outputs": [
        {
          "output_type": "stream",
          "text": [
            "Fitting 5 folds for each of 10 candidates, totalling 50 fits\n"
          ],
          "name": "stdout"
        },
        {
          "output_type": "stream",
          "text": [
            "C:\\Users\\lg\\anaconda3\\lib\\site-packages\\xgboost\\sklearn.py:888: UserWarning: The use of label encoder in XGBClassifier is deprecated and will be removed in a future release. To remove this warning, do the following: 1) Pass option use_label_encoder=False when constructing XGBClassifier object; and 2) Encode your labels (y) as integers starting with 0, i.e. 0, 1, 2, ..., [num_class - 1].\n",
            "  warnings.warn(label_encoder_deprecation_msg, UserWarning)\n"
          ],
          "name": "stderr"
        },
        {
          "output_type": "stream",
          "text": [
            "[01:11:01] WARNING: C:/Users/Administrator/workspace/xgboost-win64_release_1.3.0/src/learner.cc:1061: Starting in XGBoost 1.3.0, the default evaluation metric used with the objective 'binary:logistic' was changed from 'error' to 'logloss'. Explicitly set eval_metric if you'd like to restore the old behavior.\n",
            "Wall time: 1h 14min 43s\n"
          ],
          "name": "stdout"
        },
        {
          "output_type": "execute_result",
          "data": {
            "text/plain": [
              "RandomizedSearchCV(cv=5,\n",
              "                   estimator=XGBClassifier(base_score=None, booster=None,\n",
              "                                           colsample_bylevel=None,\n",
              "                                           colsample_bynode=None,\n",
              "                                           colsample_bytree=None, gamma=None,\n",
              "                                           gpu_id=None, importance_type='gain',\n",
              "                                           interaction_constraints=None,\n",
              "                                           learning_rate=None,\n",
              "                                           max_delta_step=None, max_depth=None,\n",
              "                                           min_child_weight=None, missing=nan,\n",
              "                                           monotone_constraints=None,\n",
              "                                           n_estimators=100,...\n",
              "                   param_distributions={'learning_rate': <scipy.stats._distn_infrastructure.rv_frozen object at 0x0000017DB3829070>,\n",
              "                                        'max_depth': [5, 6, 7, 8, 9, 10, 11, 12,\n",
              "                                                      13, 14, 15, 16, 17, 18,\n",
              "                                                      19, 20, 21, 22, 23, 24,\n",
              "                                                      25, 26, 27, 28, 29, 30,\n",
              "                                                      31, 32, 33, 34, ...],\n",
              "                                        'n_estimators': [30, 40, 50, 60, 70, 80,\n",
              "                                                         90, 100, 110, 120, 130,\n",
              "                                                         140, 150, 160, 170,\n",
              "                                                         180, 190, 200, 210,\n",
              "                                                         220, 230, 240, 250,\n",
              "                                                         260, 270, 280, 290,\n",
              "                                                         300, 310, 320, ...]},\n",
              "                   scoring=make_scorer(roc_auc_score, needs_proba=True),\n",
              "                   verbose=2)"
            ]
          },
          "metadata": {
            "tags": []
          },
          "execution_count": 77
        }
      ]
    },
    {
      "cell_type": "code",
      "metadata": {
        "id": "aOtsYy_Hrgwz",
        "outputId": "c6dae02c-875a-4ed6-a4c1-72622708263d"
      },
      "source": [
        "rand.best_score_"
      ],
      "execution_count": null,
      "outputs": [
        {
          "output_type": "execute_result",
          "data": {
            "text/plain": [
              "0.6425167264509888"
            ]
          },
          "metadata": {
            "tags": []
          },
          "execution_count": 78
        }
      ]
    },
    {
      "cell_type": "code",
      "metadata": {
        "id": "fNmjNDhCrgw0",
        "outputId": "25df32b6-df44-4daa-d7b9-705a61060184"
      },
      "source": [
        "rand.best_estimator_"
      ],
      "execution_count": null,
      "outputs": [
        {
          "output_type": "execute_result",
          "data": {
            "text/plain": [
              "XGBClassifier(base_score=0.5, booster='gbtree', colsample_bylevel=1,\n",
              "              colsample_bynode=1, colsample_bytree=1, gamma=0, gpu_id=-1,\n",
              "              importance_type='gain', interaction_constraints='',\n",
              "              learning_rate=0.06022547162926983, max_delta_step=0, max_depth=40,\n",
              "              min_child_weight=1, missing=nan, monotone_constraints='()',\n",
              "              n_estimators=410, n_jobs=-1, num_parallel_tree=1,\n",
              "              random_state=1218, reg_alpha=0, reg_lambda=1, scale_pos_weight=1,\n",
              "              subsample=1, tree_method='exact', validate_parameters=1,\n",
              "              verbosity=None)"
            ]
          },
          "metadata": {
            "tags": []
          },
          "execution_count": 79
        }
      ]
    },
    {
      "cell_type": "markdown",
      "metadata": {
        "id": "Dqu6pUpUrgw0"
      },
      "source": [
        "RandomizedSearchCV 후 GridSearchCV"
      ]
    },
    {
      "cell_type": "code",
      "metadata": {
        "id": "jEXd_X86rgw0"
      },
      "source": [
        "from xgboost import XGBClassifier\n",
        "xgb = XGBClassifier(random_state = 1218, max_depth = 14, learning_rate = 0.07103605819788694, objective = 'binary:logistic', subsample = 0.9, colsample_bytree = 0.9, n_estimators = 145, n_jobs = -1, booster = 'dart')"
      ],
      "execution_count": null,
      "outputs": []
    },
    {
      "cell_type": "code",
      "metadata": {
        "id": "kdkuaUYergw1"
      },
      "source": [
        "xgb.fit(np.array(X_train), np.array(y_train))"
      ],
      "execution_count": null,
      "outputs": []
    },
    {
      "cell_type": "code",
      "metadata": {
        "id": "CGJfJOJSrgw1"
      },
      "source": [
        "xgb_pred = xgb.predict_proba(X_test)[:,1]"
      ],
      "execution_count": null,
      "outputs": []
    },
    {
      "cell_type": "code",
      "metadata": {
        "id": "s02DMDoxrgw1"
      },
      "source": [
        ""
      ],
      "execution_count": null,
      "outputs": []
    },
    {
      "cell_type": "code",
      "metadata": {
        "id": "gr_oCnTOrgw1"
      },
      "source": [
        "pred = (lgbm_pred + xgb_pred) / 2"
      ],
      "execution_count": null,
      "outputs": []
    },
    {
      "cell_type": "markdown",
      "metadata": {
        "id": "YMBknML5rgw2"
      },
      "source": [
        ""
      ]
    },
    {
      "cell_type": "markdown",
      "metadata": {
        "id": "GnQtcPCVrgw2"
      },
      "source": [
        "#### 그 밖에 시도한 것들 (in case of 변수 생성)\n",
        "1. 주구매코너 -> label Encoding\n",
        "2. 요일별 통계 (합계, 비율) 했더니 성능 하락..?\n",
        "3. 지점별 통계 (합계, 비율)"
      ]
    },
    {
      "cell_type": "code",
      "metadata": {
        "id": "dBsOghWGrgw2"
      },
      "source": [
        "from collections import Counter\n",
        "\n",
        "df = data.groupby(['custid'])['corner_nm'].transform(lambda x: Counter(x).most_common(1)[0][0])\n",
        "# most_common은 (가장 많이 나온거, 개수) 이렇게 tuple형태로 리턴"
      ],
      "execution_count": null,
      "outputs": []
    },
    {
      "cell_type": "code",
      "metadata": {
        "id": "Mtq2ka_Trgw2"
      },
      "source": [
        "tmp1 = data.groupby(['custid'])['corner_nm'].agg(lambda x: Counter(x).most_common(1)[0][0]).reset_index()"
      ],
      "execution_count": null,
      "outputs": []
    },
    {
      "cell_type": "code",
      "metadata": {
        "id": "5gRKuOttrgw2"
      },
      "source": [
        "tmp1.rename(columns = {'corner_nm': '주구매코너'}, inplace = True)"
      ],
      "execution_count": null,
      "outputs": []
    },
    {
      "cell_type": "code",
      "metadata": {
        "id": "flXucOCmrgw3"
      },
      "source": [
        "from sklearn.preprocessing import LabelEncoder\n",
        "le = LabelEncoder()\n",
        "tmp1['주구매코너'] = le.fit_transform(tmp1['주구매코너'])"
      ],
      "execution_count": null,
      "outputs": []
    },
    {
      "cell_type": "markdown",
      "metadata": {
        "id": "C7pXf8Ohrgw3"
      },
      "source": [
        "#### 그 밖에 시도한 것들\n",
        "1. RandomForest를 사용 -> 성능이 별로 (0.63..., 0.50...)\n",
        "2. TPOT도 썼는데 0.499..?\n"
      ]
    },
    {
      "cell_type": "code",
      "metadata": {
        "id": "RCooPmKArgw3"
      },
      "source": [
        ""
      ],
      "execution_count": null,
      "outputs": []
    },
    {
      "cell_type": "code",
      "metadata": {
        "id": "g3b3eNbcrgw4"
      },
      "source": [
        "from lightgbm import LGBMClassifier\n",
        "\n",
        "model = LGBMClassifier(random_state = 1218, n_jobs = -1)"
      ],
      "execution_count": null,
      "outputs": []
    },
    {
      "cell_type": "code",
      "metadata": {
        "id": "yL0YCn9Xrgw4"
      },
      "source": [
        "parameters = {\n",
        "    'subsample' : [0.5, 0.7, 0.9],\n",
        "    'colsample_bytree' : [0.5, 0.7, 0.9]\n",
        "}"
      ],
      "execution_count": null,
      "outputs": []
    },
    {
      "cell_type": "code",
      "metadata": {
        "id": "CzgzXtShrgw4"
      },
      "source": [
        "from sklearn.model_selection import GridSearchCV\n",
        "grid = GridSearchCV(model, parameters, n_jobs = -1, cv = 4, verbose = 2, scoring = auc)"
      ],
      "execution_count": null,
      "outputs": []
    },
    {
      "cell_type": "code",
      "metadata": {
        "id": "-iF-4DSFrgw5",
        "outputId": "9438887c-49b1-430c-890b-bfb5664d1e59"
      },
      "source": [
        "%%time\n",
        "grid.fit(np.array(X_train), np.array(y_train))"
      ],
      "execution_count": null,
      "outputs": [
        {
          "output_type": "stream",
          "text": [
            "Fitting 4 folds for each of 9 candidates, totalling 36 fits\n",
            "Wall time: 9.31 s\n"
          ],
          "name": "stdout"
        },
        {
          "output_type": "execute_result",
          "data": {
            "text/plain": [
              "GridSearchCV(cv=4, estimator=LGBMClassifier(random_state=1218), n_jobs=-1,\n",
              "             param_grid={'colsample_bytree': [0.5, 0.7, 0.9],\n",
              "                         'subsample': [0.5, 0.7, 0.9]},\n",
              "             scoring=make_scorer(roc_auc_score, needs_proba=True), verbose=2)"
            ]
          },
          "metadata": {
            "tags": []
          },
          "execution_count": 43
        }
      ]
    },
    {
      "cell_type": "code",
      "metadata": {
        "id": "GOpYpmF8rgw5",
        "outputId": "c15cc5c1-373a-49f0-e103-058836e6600d"
      },
      "source": [
        "grid.best_params_"
      ],
      "execution_count": null,
      "outputs": [
        {
          "output_type": "execute_result",
          "data": {
            "text/plain": [
              "{'colsample_bytree': 0.5, 'subsample': 0.5}"
            ]
          },
          "metadata": {
            "tags": []
          },
          "execution_count": 44
        }
      ]
    },
    {
      "cell_type": "code",
      "metadata": {
        "id": "cZq79XMIrgw6",
        "outputId": "76591eb7-514b-4a84-e099-610d014c9105"
      },
      "source": [
        "grid.best_score_"
      ],
      "execution_count": null,
      "outputs": [
        {
          "output_type": "execute_result",
          "data": {
            "text/plain": [
              "0.6659455875292443"
            ]
          },
          "metadata": {
            "tags": []
          },
          "execution_count": 45
        }
      ]
    },
    {
      "cell_type": "code",
      "metadata": {
        "id": "3ymNym98rgw6"
      },
      "source": [
        "from lightgbm import LGBMClassifier\n",
        "\n",
        "model1 = LGBMClassifier(random_state = 1218, learning_rate = 0.01, max_depth = 12, objective = 'binary', subsample = 0.5, colsample_bytree = 0.5, n_estimators = 600, n_jobs = -1, booster = 'dart')"
      ],
      "execution_count": null,
      "outputs": []
    },
    {
      "cell_type": "code",
      "metadata": {
        "id": "CxWAa-UPrgw6"
      },
      "source": [
        ""
      ],
      "execution_count": null,
      "outputs": []
    }
  ]
}